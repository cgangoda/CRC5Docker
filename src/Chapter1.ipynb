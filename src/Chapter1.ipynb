{
 "cells": [
  {
   "cell_type": "markdown",
   "metadata": {},
   "source": [
    "# Notebook Examples for Chapter 1\n",
    "# Images, Arrays and Matrices\n",
    "There are many  Earth observation satellite-based sensors, both active and passive, currently in orbit or planned for the near future.\n",
    "Laying the mathematical foundation for the image analysis procedures and algorithms forming the substance of the text,\n",
    "Chapter 1 begins with a short description of typical remote sensing imagery in the  optical/infrared  and synthetic aperture radar categories, together with their representations as digital arrays.  The multispectral ASTER system and the TerraSAR-X synthetic aperture radar satellite are chosen as illustrations.  Then some basic concepts of linear algebra of vectors and matrices are introduced, namely linear dependence,  eigenvalues and eigenvectors, singular value  decomposition and finding minima and maxima using Lagrange multipliers. The latter is illustrated with the principal components analysis of a multispectral image."
   ]
  },
  {
   "cell_type": "code",
   "execution_count": null,
   "metadata": {},
   "outputs": [],
   "source": [
    "# Requirements\n",
    "from osgeo import gdal\n",
    "from osgeo.gdalconst import GA_ReadOnly\n",
    "import numpy as np\n",
    "from IPython.display import Image\n",
    "\n",
    "%matplotlib inline\n",
    "\n",
    "import ee\n",
    "#ee.Authenticate()\n",
    "#ee.Initialize()"
   ]
  },
  {
   "cell_type": "code",
   "execution_count": null,
   "metadata": {},
   "outputs": [],
   "source": [
    "!gdalinfo --version"
   ]
  },
  {
   "cell_type": "code",
   "execution_count": null,
   "metadata": {},
   "outputs": [],
   "source": [
    "!python -V"
   ]
  },
  {
   "cell_type": "markdown",
   "metadata": {},
   "source": [
    "## 1.1 Multispectral satellite images"
   ]
  },
  {
   "cell_type": "code",
   "execution_count": null,
   "metadata": {},
   "outputs": [],
   "source": [
    "run scripts/ex1_1 imagery/AST_20070501.tif  3 "
   ]
  },
  {
   "cell_type": "markdown",
   "metadata": {},
   "source": [
    "## 1.2 Synthetic aperture radar images"
   ]
  },
  {
   "cell_type": "code",
   "execution_count": null,
   "metadata": {},
   "outputs": [],
   "source": [
    "minlon = 6.31\n",
    "minlat = 50.83\n",
    "maxlon = 6.58\n",
    "maxlat = 50.95\n",
    "\n",
    "rect = ee.Geometry.Rectangle([minlon,minlat,maxlon,maxlat])\n",
    "collection = ee.ImageCollection('COPERNICUS/S1_GRD') \\\n",
    "  .filterBounds(rect) \\\n",
    "  .filterDate(ee.Date('2017-05-01'), ee.Date('2017-06-01')) \\\n",
    "  .filter(ee.Filter.eq('transmitterReceiverPolarisation', \n",
    "                                              ['VV','VH'])) \\\n",
    "  .filter(ee.Filter.eq('resolution_meters', 10)) \\\n",
    "  .filter(ee.Filter.eq('instrumentMode', 'IW')) \n",
    "    \n",
    "image = ee.Image(collection.first()).clip(rect)                        \n",
    "url = image.select('VV').getThumbURL({'min':-20,'max':0})\n",
    "Image(url=url)"
   ]
  },
  {
   "cell_type": "markdown",
   "metadata": {},
   "source": [
    "## 1.3 Linear algebra of vectors and matrices\n",
    "### 1.3.1 Elementary properties\n",
    "### 1.3.2 Square matrices\n",
    "### 1.3.3 Singular matrices\n",
    "### 1.3.4 Symmetric, positive definite matrices"
   ]
  },
  {
   "cell_type": "code",
   "execution_count": null,
   "metadata": {},
   "outputs": [],
   "source": [
    "gdal.AllRegister()\n",
    "infile = 'imagery/AST_20070501.tif'                \n",
    "inDataset = gdal.Open(infile,GA_ReadOnly)     \n",
    "cols = inDataset.RasterXSize\n",
    "rows = inDataset.RasterYSize    \n",
    "\n",
    "#  data matrix\n",
    "G = np.zeros((rows*cols,3))                                   \n",
    "for b in range(3):\n",
    "    band = inDataset.GetRasterBand(b+1)\n",
    "    tmp = band.ReadAsArray(0,0,cols,rows).ravel()\n",
    "    G[:,b] = tmp - np.mean(tmp)\n",
    "    \n",
    "#  covariance matrix\n",
    "C = np.mat(G).T*np.mat(G)/(cols*rows-1)  \n",
    "C"
   ]
  },
  {
   "cell_type": "markdown",
   "metadata": {},
   "source": [
    "### 1.3.5 Linear dependence and vector spaces\n",
    "### 1.3.6 Eigenvalues and eigenvectors"
   ]
  },
  {
   "cell_type": "code",
   "execution_count": null,
   "metadata": {},
   "outputs": [],
   "source": [
    "eigenvalues, eigenvectors = np.linalg.eigh(C)\n",
    "print(eigenvalues)\n",
    "print(eigenvectors)"
   ]
  },
  {
   "cell_type": "code",
   "execution_count": null,
   "metadata": {},
   "outputs": [],
   "source": [
    "U = eigenvectors\n",
    "print(U.T*U)"
   ]
  },
  {
   "cell_type": "markdown",
   "metadata": {},
   "source": [
    "### 1.3.7 Singular value decomposition"
   ]
  },
  {
   "cell_type": "code",
   "execution_count": null,
   "metadata": {},
   "outputs": [],
   "source": [
    "b = np.mat([1,2,3])\n",
    "# an almost singular matrix\n",
    "A = b.T*b + np.random.rand(3,3)*0.001\n",
    "# a symmetric almost singular matrix\n",
    "A = A + A.T\n",
    "print('determinant: %f'%np.linalg.det(A))\n",
    "# singular value decomposition\n",
    "U,Lambda,V = np.linalg.svd(A)\n",
    "print('Lambda = %s'%str(Lambda))\n",
    "print('U = %s'%str(U))\n",
    "print('V = %s'%str(V))"
   ]
  },
  {
   "cell_type": "markdown",
   "metadata": {},
   "source": [
    "### 1.3.8 Tensors"
   ]
  },
  {
   "cell_type": "code",
   "execution_count": null,
   "metadata": {},
   "outputs": [],
   "source": [
    "import tensorflow as tf\n",
    "data = [[1., 2.],[3., 4.]]\n",
    "tf_data = tf.constant(data)\n",
    "np_array = np.array(tf_data)\n",
    "tf_np = tf.constant(np_array)\n",
    "print(tf_np)"
   ]
  },
  {
   "cell_type": "markdown",
   "metadata": {},
   "source": [
    "## 1.4 Finding minima and maxima"
   ]
  },
  {
   "cell_type": "code",
   "execution_count": null,
   "metadata": {},
   "outputs": [],
   "source": [
    "%run scripts/ex1_2 imagery/AST_20070501.tif imagery/ex1_2.tif"
   ]
  },
  {
   "cell_type": "code",
   "execution_count": null,
   "metadata": {},
   "outputs": [],
   "source": [
    "%run scripts/dispms -f 'imagery/ex1_2.tif' -p [1,2,3] -e 4 \\\n",
    "#-s '~/LaTeX/new projects/CRC5/Chapter1/fig1_8.eps'"
   ]
  },
  {
   "cell_type": "code",
   "execution_count": null,
   "metadata": {},
   "outputs": [],
   "source": []
  }
 ],
 "metadata": {
  "kernelspec": {
   "display_name": "Python 3 (ipykernel)",
   "language": "python",
   "name": "python3"
  },
  "language_info": {
   "codemirror_mode": {
    "name": "ipython",
    "version": 3
   },
   "file_extension": ".py",
   "mimetype": "text/x-python",
   "name": "python",
   "nbconvert_exporter": "python",
   "pygments_lexer": "ipython3",
   "version": "3.10.12"
  }
 },
 "nbformat": 4,
 "nbformat_minor": 4
}
