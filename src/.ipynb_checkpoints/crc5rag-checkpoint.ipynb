{
 "cells": [
  {
   "cell_type": "markdown",
   "id": "56767e56-9a6c-472b-9ea0-bf1bea8ee8bc",
   "metadata": {},
   "source": [
    "## CRC5RAG\n",
    "\n",
    "### An experimental LLM/RAG environment to query the full textbook"
   ]
  },
  {
   "cell_type": "code",
   "execution_count": 2,
   "id": "51796c78-65bf-491f-a014-3be745ad49fb",
   "metadata": {},
   "outputs": [],
   "source": [
    "%%capture\n",
    "!ollama pull nomic-embed-text\n",
    "!ollama pull llama3.1"
   ]
  },
  {
   "cell_type": "code",
   "execution_count": 4,
   "id": "9cd9bd5f-cd87-4c7d-b5f7-507b5b8482e2",
   "metadata": {},
   "outputs": [
    {
     "name": "stdout",
     "output_type": "stream",
     "text": [
      "NAME                       ID              SIZE      MODIFIED      \n",
      "llama3.1:latest            46e0c10c039e    4.9 GB    7 seconds ago    \n",
      "nomic-embed-text:latest    0a109f422b47    274 MB    8 seconds ago    \n"
     ]
    }
   ],
   "source": [
    "!ollama list"
   ]
  },
  {
   "cell_type": "code",
   "execution_count": 1,
   "id": "7752af2f-7de0-44fd-bc31-c50b5fafdf6e",
   "metadata": {},
   "outputs": [
    {
     "name": "stdout",
     "output_type": "stream",
     "text": [
      "* Running on local URL:  http://127.0.0.1:7862\n",
      "\n",
      "To create a public link, set `share=True` in `launch()`.\n"
     ]
    },
    {
     "data": {
      "text/html": [
       "<div><iframe src=\"http://127.0.0.1:7862/\" width=\"100%\" height=\"500\" allow=\"autoplay; camera; microphone; clipboard-read; clipboard-write;\" frameborder=\"0\" allowfullscreen></iframe></div>"
      ],
      "text/plain": [
       "<IPython.core.display.HTML object>"
      ]
     },
     "metadata": {},
     "output_type": "display_data"
    },
    {
     "data": {
      "text/plain": []
     },
     "execution_count": 1,
     "metadata": {},
     "output_type": "execute_result"
    }
   ],
   "source": [
    "import gradio as gr\n",
    "#import ollama\n",
    "import chromadb\n",
    "\n",
    "chromaclient = chromadb.PersistentClient(path=\"/home/imagery/crc5rag\")\n",
    "collection = chromaclient.get_collection(name=\"crc5rag\")\n",
    "\n",
    "def ragask(query):\n",
    "    # embed the current query\n",
    "    queryembed = ollama.embed(model=\"nomic-embed-text\", input=query)['embeddings']\n",
    "    \n",
    "    # use the embedded current query to retrieve the most relevant document chunks (as text NOT as embeddings)\n",
    "    relateddocs = '\\n\\n'.join(collection.query(query_embeddings=queryembed, n_results=4)['documents'][0])\n",
    "\n",
    "    # generate an answer\n",
    "    prompt = f\"Answer the question: {query} referring to the following text as a resource: {relateddocs}\"\n",
    "    ragoutput = ollama.generate(model=\"llama3.1\", prompt=prompt, stream=False)\n",
    "\n",
    "    return ragoutput['response']\n",
    "\n",
    "# use the gradio interface\n",
    "gr.Interface(fn=ragask, inputs=\"text\", outputs=\"text\").launch(server_name=\"0.0.0.0\", server_port=7860)   "
   ]
  },
  {
   "cell_type": "code",
   "execution_count": null,
   "id": "7fc3b4d0-7823-46d4-8333-307445660988",
   "metadata": {},
   "outputs": [],
   "source": []
  }
 ],
 "metadata": {
  "kernelspec": {
   "display_name": "Python 3 (ipykernel)",
   "language": "python",
   "name": "python3"
  },
  "language_info": {
   "codemirror_mode": {
    "name": "ipython",
    "version": 3
   },
   "file_extension": ".py",
   "mimetype": "text/x-python",
   "name": "python",
   "nbconvert_exporter": "python",
   "pygments_lexer": "ipython3",
   "version": "3.10.12"
  }
 },
 "nbformat": 4,
 "nbformat_minor": 5
}
