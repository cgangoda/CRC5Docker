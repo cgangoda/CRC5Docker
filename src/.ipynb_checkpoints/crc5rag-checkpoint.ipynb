{
 "cells": [
  {
   "cell_type": "markdown",
   "id": "d749a561-c8fc-4991-afe9-7113d3c6017c",
   "metadata": {},
   "source": [
    "### Trying out RAG with ollama and chromadb to informally access the text material\n",
    "\n",
    "ollama is recommended over hugging face for local experimentation\n",
    "\n",
    "it uses a docker-like syntax to pull LLM's"
   ]
  },
  {
   "cell_type": "markdown",
   "id": "f8b9afae-07cb-4ea7-990e-65e8f6d404e1",
   "metadata": {},
   "source": [
    "#### Preliminaries"
   ]
  },
  {
   "cell_type": "code",
   "execution_count": 2,
   "id": "d66a69bd-b4a6-4c28-91fc-f4b0ff5a1ef9",
   "metadata": {},
   "outputs": [],
   "source": [
    "%%capture\n",
    "!ollama pull nomic-embed-text\n",
    "!ollama pull llama3.1"
   ]
  },
  {
   "cell_type": "code",
   "execution_count": null,
   "id": "f868b145-7a67-4817-8c64-62f0eec8cb0c",
   "metadata": {},
   "outputs": [],
   "source": [
    "import gradio as gr\n",
    "import ollama\n",
    "import chromadb\n",
    "\n",
    "chromaclient = chromadb.PersistentClient(path=\"/home/imagery/crc5rag\")\n",
    "collection = chromaclient.get_collection(name=\"crc5rag\")"
   ]
  },
  {
   "cell_type": "markdown",
   "id": "a3c9451e-7588-4db5-a87a-d96ee9a152b5",
   "metadata": {},
   "source": [
    "#### Execute a query with llama3.1 and the supplementary text (RAG)"
   ]
  },
  {
   "cell_type": "code",
   "execution_count": null,
   "id": "ae9a7009-0c0d-4566-b29e-fb3a1033dcb6",
   "metadata": {},
   "outputs": [],
   "source": [
    "def ragask(query):\n",
    "    # embed the current query\n",
    "    queryembed = ollama.embed(model=\"nomic-embed-text\", input=query)['embeddings']\n",
    "    \n",
    "    # use the embedded current query to retrieve the most relevant document chunks (as text NOT as embeddings)\n",
    "    relateddocs = '\\n\\n'.join(collection.query(query_embeddings=queryembed, n_results=4)['documents'][0])\n",
    "\n",
    "    # generate an answer\n",
    "    prompt = f\"Answer the question: {query} referring to the following text as a resource: {relateddocs}\"\n",
    "    ragoutput = ollama.generate(model=\"llama3.1\", prompt=prompt, stream=False)\n",
    "\n",
    "    return ragoutput['response']\n",
    "\n",
    "gr.Interface(fn=ragask, inputs=\"text\", outputs=\"text\").launch(server_name=\"0.0.0.0\", server_port=7860)   "
   ]
  },
  {
   "cell_type": "code",
   "execution_count": null,
   "id": "bead031c-4ce1-43a7-bf2c-2669ceabb755",
   "metadata": {},
   "outputs": [],
   "source": []
  }
 ],
 "metadata": {
  "kernelspec": {
   "display_name": "Python 3 (ipykernel)",
   "language": "python",
   "name": "python3"
  },
  "language_info": {
   "codemirror_mode": {
    "name": "ipython",
    "version": 3
   },
   "file_extension": ".py",
   "mimetype": "text/x-python",
   "name": "python",
   "nbconvert_exporter": "python",
   "pygments_lexer": "ipython3",
   "version": "3.10.12"
  }
 },
 "nbformat": 4,
 "nbformat_minor": 5
}
